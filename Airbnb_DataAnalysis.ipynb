{
 "cells": [
  {
   "cell_type": "code",
   "execution_count": 1,
   "id": "512ca323-6e4f-483d-b0bc-7fd39520e31e",
   "metadata": {
    "tags": []
   },
   "outputs": [],
   "source": [
    "import numpy as np\n",
    "import pandas as pd"
   ]
  },
  {
   "cell_type": "markdown",
   "id": "c71419fc",
   "metadata": {},
   "source": [
    "## Task #1: \n",
    "### Read the data in ‘Airbnb_ Price_Data.csv’ into a data structure of your program, such as DataFrame."
   ]
  },
  {
   "cell_type": "code",
   "execution_count": 2,
   "id": "808a3ba1-592a-4446-a982-c543543645a9",
   "metadata": {},
   "outputs": [],
   "source": [
    "actualdf = pd.read_csv(\"Airbnb_ Price_Data.csv\",header=None)"
   ]
  },
  {
   "cell_type": "markdown",
   "id": "1211a469",
   "metadata": {},
   "source": [
    "# Task #2:\n",
    "\n",
    "### Review whether you read the data correctly using available Python functions or operators."
   ]
  },
  {
   "cell_type": "code",
   "execution_count": 3,
   "id": "47734111",
   "metadata": {},
   "outputs": [
    {
     "data": {
      "text/html": [
       "<div>\n",
       "<style scoped>\n",
       "    .dataframe tbody tr th:only-of-type {\n",
       "        vertical-align: middle;\n",
       "    }\n",
       "\n",
       "    .dataframe tbody tr th {\n",
       "        vertical-align: top;\n",
       "    }\n",
       "\n",
       "    .dataframe thead th {\n",
       "        text-align: right;\n",
       "    }\n",
       "</style>\n",
       "<table border=\"1\" class=\"dataframe\">\n",
       "  <thead>\n",
       "    <tr style=\"text-align: right;\">\n",
       "      <th></th>\n",
       "      <th>0</th>\n",
       "      <th>1</th>\n",
       "      <th>2</th>\n",
       "      <th>3</th>\n",
       "      <th>4</th>\n",
       "      <th>5</th>\n",
       "      <th>6</th>\n",
       "      <th>7</th>\n",
       "      <th>8</th>\n",
       "      <th>9</th>\n",
       "      <th>10</th>\n",
       "      <th>11</th>\n",
       "      <th>12</th>\n",
       "      <th>13</th>\n",
       "      <th>14</th>\n",
       "      <th>15</th>\n",
       "    </tr>\n",
       "  </thead>\n",
       "  <tbody>\n",
       "    <tr>\n",
       "      <th>0</th>\n",
       "      <td>0</td>\n",
       "      <td>2318</td>\n",
       "      <td>2536</td>\n",
       "      <td>Entire home/apt</td>\n",
       "      <td>Seattle, WA, United States</td>\n",
       "      <td>21</td>\n",
       "      <td>4.5</td>\n",
       "      <td>8</td>\n",
       "      <td>4.0</td>\n",
       "      <td>2.5</td>\n",
       "      <td>250</td>\n",
       "      <td>46:14.7</td>\n",
       "      <td>47.610819</td>\n",
       "      <td>-122.290816</td>\n",
       "      <td>0101000020E6100000D449B6BA9C925EC0416326512FCE...</td>\n",
       "      <td>Casa Madrona - Urban Oasis, 1 block from the P...</td>\n",
       "    </tr>\n",
       "    <tr>\n",
       "      <th>1</th>\n",
       "      <td>1</td>\n",
       "      <td>3335</td>\n",
       "      <td>4193</td>\n",
       "      <td>Entire home/apt</td>\n",
       "      <td>Seattle, WA, United States</td>\n",
       "      <td>1</td>\n",
       "      <td>NaN</td>\n",
       "      <td>4</td>\n",
       "      <td>2.0</td>\n",
       "      <td>1.0</td>\n",
       "      <td>100</td>\n",
       "      <td>08:45.3</td>\n",
       "      <td>47.529846</td>\n",
       "      <td>-122.275840</td>\n",
       "      <td>0101000020E61000006FBBD05CA7915EC04DF564FED1C3...</td>\n",
       "      <td>Sweet Seattle Urban Homestead 2 Bdr</td>\n",
       "    </tr>\n",
       "    <tr>\n",
       "      <th>2</th>\n",
       "      <td>2</td>\n",
       "      <td>4291</td>\n",
       "      <td>35749</td>\n",
       "      <td>Private room</td>\n",
       "      <td>Seattle, WA, United States</td>\n",
       "      <td>63</td>\n",
       "      <td>4.5</td>\n",
       "      <td>2</td>\n",
       "      <td>1.0</td>\n",
       "      <td>1.0</td>\n",
       "      <td>82</td>\n",
       "      <td>04:19.9</td>\n",
       "      <td>47.687801</td>\n",
       "      <td>-122.313427</td>\n",
       "      <td>0101000020E6100000BDAB1E300F945EC0FB93F8DC09D8...</td>\n",
       "      <td>Sunrise in Seattle Master Suite</td>\n",
       "    </tr>\n",
       "    <tr>\n",
       "      <th>3</th>\n",
       "      <td>3</td>\n",
       "      <td>5682</td>\n",
       "      <td>8993</td>\n",
       "      <td>Entire home/apt</td>\n",
       "      <td>Seattle, WA, United States</td>\n",
       "      <td>462</td>\n",
       "      <td>5.0</td>\n",
       "      <td>2</td>\n",
       "      <td>NaN</td>\n",
       "      <td>1.0</td>\n",
       "      <td>49</td>\n",
       "      <td>11:25.5</td>\n",
       "      <td>47.523980</td>\n",
       "      <td>-122.359891</td>\n",
       "      <td>0101000020E6100000FCC7427408975EC009E1D1C611C3...</td>\n",
       "      <td>Cozy Studio, min. to downtown -WiFi</td>\n",
       "    </tr>\n",
       "    <tr>\n",
       "      <th>4</th>\n",
       "      <td>4</td>\n",
       "      <td>6606</td>\n",
       "      <td>14942</td>\n",
       "      <td>Entire home/apt</td>\n",
       "      <td>Seattle, WA, United States</td>\n",
       "      <td>134</td>\n",
       "      <td>4.5</td>\n",
       "      <td>2</td>\n",
       "      <td>1.0</td>\n",
       "      <td>1.0</td>\n",
       "      <td>90</td>\n",
       "      <td>12:38.4</td>\n",
       "      <td>47.654109</td>\n",
       "      <td>-122.337605</td>\n",
       "      <td>0101000020E6100000D47D00529B955EC07782FDD7B9D3...</td>\n",
       "      <td>Fab, private seattle urban cottage!</td>\n",
       "    </tr>\n",
       "  </tbody>\n",
       "</table>\n",
       "</div>"
      ],
      "text/plain": [
       "   0     1      2                3                           4    5    6   7   \\\n",
       "0   0  2318   2536  Entire home/apt  Seattle, WA, United States   21  4.5   8   \n",
       "1   1  3335   4193  Entire home/apt  Seattle, WA, United States    1  NaN   4   \n",
       "2   2  4291  35749     Private room  Seattle, WA, United States   63  4.5   2   \n",
       "3   3  5682   8993  Entire home/apt  Seattle, WA, United States  462  5.0   2   \n",
       "4   4  6606  14942  Entire home/apt  Seattle, WA, United States  134  4.5   2   \n",
       "\n",
       "    8    9    10       11         12          13  \\\n",
       "0  4.0  2.5  250  46:14.7  47.610819 -122.290816   \n",
       "1  2.0  1.0  100  08:45.3  47.529846 -122.275840   \n",
       "2  1.0  1.0   82  04:19.9  47.687801 -122.313427   \n",
       "3  NaN  1.0   49  11:25.5  47.523980 -122.359891   \n",
       "4  1.0  1.0   90  12:38.4  47.654109 -122.337605   \n",
       "\n",
       "                                                  14  \\\n",
       "0  0101000020E6100000D449B6BA9C925EC0416326512FCE...   \n",
       "1  0101000020E61000006FBBD05CA7915EC04DF564FED1C3...   \n",
       "2  0101000020E6100000BDAB1E300F945EC0FB93F8DC09D8...   \n",
       "3  0101000020E6100000FCC7427408975EC009E1D1C611C3...   \n",
       "4  0101000020E6100000D47D00529B955EC07782FDD7B9D3...   \n",
       "\n",
       "                                                  15  \n",
       "0  Casa Madrona - Urban Oasis, 1 block from the P...  \n",
       "1                Sweet Seattle Urban Homestead 2 Bdr  \n",
       "2                    Sunrise in Seattle Master Suite  \n",
       "3                Cozy Studio, min. to downtown -WiFi  \n",
       "4                Fab, private seattle urban cottage!  "
      ]
     },
     "execution_count": 3,
     "metadata": {},
     "output_type": "execute_result"
    }
   ],
   "source": [
    "actualdf.head()"
   ]
  },
  {
   "cell_type": "code",
   "execution_count": 4,
   "id": "4e48b6c2",
   "metadata": {},
   "outputs": [
    {
     "data": {
      "text/html": [
       "<div>\n",
       "<style scoped>\n",
       "    .dataframe tbody tr th:only-of-type {\n",
       "        vertical-align: middle;\n",
       "    }\n",
       "\n",
       "    .dataframe tbody tr th {\n",
       "        vertical-align: top;\n",
       "    }\n",
       "\n",
       "    .dataframe thead th {\n",
       "        text-align: right;\n",
       "    }\n",
       "</style>\n",
       "<table border=\"1\" class=\"dataframe\">\n",
       "  <thead>\n",
       "    <tr style=\"text-align: right;\">\n",
       "      <th></th>\n",
       "      <th>0</th>\n",
       "      <th>1</th>\n",
       "      <th>2</th>\n",
       "      <th>5</th>\n",
       "      <th>6</th>\n",
       "      <th>7</th>\n",
       "      <th>8</th>\n",
       "      <th>9</th>\n",
       "      <th>10</th>\n",
       "      <th>12</th>\n",
       "      <th>13</th>\n",
       "    </tr>\n",
       "  </thead>\n",
       "  <tbody>\n",
       "    <tr>\n",
       "      <th>count</th>\n",
       "      <td>499.000000</td>\n",
       "      <td>4.990000e+02</td>\n",
       "      <td>4.990000e+02</td>\n",
       "      <td>499.000000</td>\n",
       "      <td>480.000000</td>\n",
       "      <td>499.000000</td>\n",
       "      <td>412.000000</td>\n",
       "      <td>497.000000</td>\n",
       "      <td>499.000000</td>\n",
       "      <td>499.000000</td>\n",
       "      <td>499.000000</td>\n",
       "    </tr>\n",
       "    <tr>\n",
       "      <th>mean</th>\n",
       "      <td>258.835671</td>\n",
       "      <td>1.030545e+06</td>\n",
       "      <td>3.641564e+06</td>\n",
       "      <td>105.505010</td>\n",
       "      <td>4.768750</td>\n",
       "      <td>3.659319</td>\n",
       "      <td>1.575243</td>\n",
       "      <td>1.326962</td>\n",
       "      <td>128.789579</td>\n",
       "      <td>47.631635</td>\n",
       "      <td>-122.321124</td>\n",
       "    </tr>\n",
       "    <tr>\n",
       "      <th>std</th>\n",
       "      <td>151.052895</td>\n",
       "      <td>7.414915e+05</td>\n",
       "      <td>3.420512e+06</td>\n",
       "      <td>103.726962</td>\n",
       "      <td>0.370722</td>\n",
       "      <td>2.354217</td>\n",
       "      <td>0.931560</td>\n",
       "      <td>0.678914</td>\n",
       "      <td>272.961944</td>\n",
       "      <td>0.046889</td>\n",
       "      <td>0.056608</td>\n",
       "    </tr>\n",
       "    <tr>\n",
       "      <th>min</th>\n",
       "      <td>0.000000</td>\n",
       "      <td>2.318000e+03</td>\n",
       "      <td>2.536000e+03</td>\n",
       "      <td>0.000000</td>\n",
       "      <td>3.000000</td>\n",
       "      <td>1.000000</td>\n",
       "      <td>0.000000</td>\n",
       "      <td>0.500000</td>\n",
       "      <td>25.000000</td>\n",
       "      <td>47.509636</td>\n",
       "      <td>-122.411812</td>\n",
       "    </tr>\n",
       "    <tr>\n",
       "      <th>25%</th>\n",
       "      <td>127.500000</td>\n",
       "      <td>3.472465e+05</td>\n",
       "      <td>6.902025e+05</td>\n",
       "      <td>28.000000</td>\n",
       "      <td>4.500000</td>\n",
       "      <td>2.000000</td>\n",
       "      <td>1.000000</td>\n",
       "      <td>1.000000</td>\n",
       "      <td>69.000000</td>\n",
       "      <td>47.606179</td>\n",
       "      <td>-122.357422</td>\n",
       "    </tr>\n",
       "    <tr>\n",
       "      <th>50%</th>\n",
       "      <td>259.000000</td>\n",
       "      <td>9.480770e+05</td>\n",
       "      <td>2.739131e+06</td>\n",
       "      <td>70.000000</td>\n",
       "      <td>5.000000</td>\n",
       "      <td>3.000000</td>\n",
       "      <td>1.000000</td>\n",
       "      <td>1.000000</td>\n",
       "      <td>95.000000</td>\n",
       "      <td>47.633457</td>\n",
       "      <td>-122.328379</td>\n",
       "    </tr>\n",
       "    <tr>\n",
       "      <th>75%</th>\n",
       "      <td>387.500000</td>\n",
       "      <td>1.606665e+06</td>\n",
       "      <td>5.663982e+06</td>\n",
       "      <td>151.500000</td>\n",
       "      <td>5.000000</td>\n",
       "      <td>5.000000</td>\n",
       "      <td>2.000000</td>\n",
       "      <td>1.500000</td>\n",
       "      <td>135.000000</td>\n",
       "      <td>47.669483</td>\n",
       "      <td>-122.306102</td>\n",
       "    </tr>\n",
       "    <tr>\n",
       "      <th>max</th>\n",
       "      <td>522.000000</td>\n",
       "      <td>2.593176e+06</td>\n",
       "      <td>1.291342e+07</td>\n",
       "      <td>687.000000</td>\n",
       "      <td>5.000000</td>\n",
       "      <td>16.000000</td>\n",
       "      <td>6.000000</td>\n",
       "      <td>5.000000</td>\n",
       "      <td>5900.000000</td>\n",
       "      <td>47.722727</td>\n",
       "      <td>-122.116795</td>\n",
       "    </tr>\n",
       "  </tbody>\n",
       "</table>\n",
       "</div>"
      ],
      "text/plain": [
       "               0             1             2           5           6   \\\n",
       "count  499.000000  4.990000e+02  4.990000e+02  499.000000  480.000000   \n",
       "mean   258.835671  1.030545e+06  3.641564e+06  105.505010    4.768750   \n",
       "std    151.052895  7.414915e+05  3.420512e+06  103.726962    0.370722   \n",
       "min      0.000000  2.318000e+03  2.536000e+03    0.000000    3.000000   \n",
       "25%    127.500000  3.472465e+05  6.902025e+05   28.000000    4.500000   \n",
       "50%    259.000000  9.480770e+05  2.739131e+06   70.000000    5.000000   \n",
       "75%    387.500000  1.606665e+06  5.663982e+06  151.500000    5.000000   \n",
       "max    522.000000  2.593176e+06  1.291342e+07  687.000000    5.000000   \n",
       "\n",
       "               7           8           9            10          12          13  \n",
       "count  499.000000  412.000000  497.000000   499.000000  499.000000  499.000000  \n",
       "mean     3.659319    1.575243    1.326962   128.789579   47.631635 -122.321124  \n",
       "std      2.354217    0.931560    0.678914   272.961944    0.046889    0.056608  \n",
       "min      1.000000    0.000000    0.500000    25.000000   47.509636 -122.411812  \n",
       "25%      2.000000    1.000000    1.000000    69.000000   47.606179 -122.357422  \n",
       "50%      3.000000    1.000000    1.000000    95.000000   47.633457 -122.328379  \n",
       "75%      5.000000    2.000000    1.500000   135.000000   47.669483 -122.306102  \n",
       "max     16.000000    6.000000    5.000000  5900.000000   47.722727 -122.116795  "
      ]
     },
     "execution_count": 4,
     "metadata": {},
     "output_type": "execute_result"
    }
   ],
   "source": [
    "actualdf.describe()"
   ]
  },
  {
   "cell_type": "markdown",
   "id": "086d3268",
   "metadata": {},
   "source": [
    "# Task #3:\n",
    "\n",
    "### Add column labels to the data table to reference with column labels."
   ]
  },
  {
   "cell_type": "code",
   "execution_count": 5,
   "id": "f7f7741f",
   "metadata": {},
   "outputs": [],
   "source": [
    "headerlist = ['ID','Room ID','Host ID','Room Type','Address (City, State, Country)','Reviews','Overall satisfaction','Accommodates','Bedrooms','Bathrooms','Price','Last modified',\n",
    "'Latitude','Longitude','Location','Name']\n",
    "\n",
    "actualdf.columns = headerlist\n",
    "actualdf.head\n",
    "actualdf.to_csv(\"Airbnb_ Price_Data_Renamed.csv\", index=False)"
   ]
  },
  {
   "cell_type": "code",
   "execution_count": 6,
   "id": "4f5067fc",
   "metadata": {},
   "outputs": [
    {
     "data": {
      "text/html": [
       "<div>\n",
       "<style scoped>\n",
       "    .dataframe tbody tr th:only-of-type {\n",
       "        vertical-align: middle;\n",
       "    }\n",
       "\n",
       "    .dataframe tbody tr th {\n",
       "        vertical-align: top;\n",
       "    }\n",
       "\n",
       "    .dataframe thead th {\n",
       "        text-align: right;\n",
       "    }\n",
       "</style>\n",
       "<table border=\"1\" class=\"dataframe\">\n",
       "  <thead>\n",
       "    <tr style=\"text-align: right;\">\n",
       "      <th></th>\n",
       "      <th>ID</th>\n",
       "      <th>Room ID</th>\n",
       "      <th>Host ID</th>\n",
       "      <th>Room Type</th>\n",
       "      <th>Address (City, State, Country)</th>\n",
       "      <th>Reviews</th>\n",
       "      <th>Overall satisfaction</th>\n",
       "      <th>Accommodates</th>\n",
       "      <th>Bedrooms</th>\n",
       "      <th>Bathrooms</th>\n",
       "      <th>Price</th>\n",
       "      <th>Last modified</th>\n",
       "      <th>Latitude</th>\n",
       "      <th>Longitude</th>\n",
       "      <th>Location</th>\n",
       "      <th>Name</th>\n",
       "    </tr>\n",
       "  </thead>\n",
       "  <tbody>\n",
       "    <tr>\n",
       "      <th>0</th>\n",
       "      <td>0</td>\n",
       "      <td>2318</td>\n",
       "      <td>2536</td>\n",
       "      <td>Entire home/apt</td>\n",
       "      <td>Seattle, WA, United States</td>\n",
       "      <td>21</td>\n",
       "      <td>4.5</td>\n",
       "      <td>8</td>\n",
       "      <td>4.0</td>\n",
       "      <td>2.5</td>\n",
       "      <td>250</td>\n",
       "      <td>46:14.7</td>\n",
       "      <td>47.610819</td>\n",
       "      <td>-122.290816</td>\n",
       "      <td>0101000020E6100000D449B6BA9C925EC0416326512FCE...</td>\n",
       "      <td>Casa Madrona - Urban Oasis, 1 block from the P...</td>\n",
       "    </tr>\n",
       "    <tr>\n",
       "      <th>1</th>\n",
       "      <td>1</td>\n",
       "      <td>3335</td>\n",
       "      <td>4193</td>\n",
       "      <td>Entire home/apt</td>\n",
       "      <td>Seattle, WA, United States</td>\n",
       "      <td>1</td>\n",
       "      <td>NaN</td>\n",
       "      <td>4</td>\n",
       "      <td>2.0</td>\n",
       "      <td>1.0</td>\n",
       "      <td>100</td>\n",
       "      <td>08:45.3</td>\n",
       "      <td>47.529846</td>\n",
       "      <td>-122.275840</td>\n",
       "      <td>0101000020E61000006FBBD05CA7915EC04DF564FED1C3...</td>\n",
       "      <td>Sweet Seattle Urban Homestead 2 Bdr</td>\n",
       "    </tr>\n",
       "    <tr>\n",
       "      <th>2</th>\n",
       "      <td>2</td>\n",
       "      <td>4291</td>\n",
       "      <td>35749</td>\n",
       "      <td>Private room</td>\n",
       "      <td>Seattle, WA, United States</td>\n",
       "      <td>63</td>\n",
       "      <td>4.5</td>\n",
       "      <td>2</td>\n",
       "      <td>1.0</td>\n",
       "      <td>1.0</td>\n",
       "      <td>82</td>\n",
       "      <td>04:19.9</td>\n",
       "      <td>47.687801</td>\n",
       "      <td>-122.313427</td>\n",
       "      <td>0101000020E6100000BDAB1E300F945EC0FB93F8DC09D8...</td>\n",
       "      <td>Sunrise in Seattle Master Suite</td>\n",
       "    </tr>\n",
       "    <tr>\n",
       "      <th>3</th>\n",
       "      <td>3</td>\n",
       "      <td>5682</td>\n",
       "      <td>8993</td>\n",
       "      <td>Entire home/apt</td>\n",
       "      <td>Seattle, WA, United States</td>\n",
       "      <td>462</td>\n",
       "      <td>5.0</td>\n",
       "      <td>2</td>\n",
       "      <td>NaN</td>\n",
       "      <td>1.0</td>\n",
       "      <td>49</td>\n",
       "      <td>11:25.5</td>\n",
       "      <td>47.523980</td>\n",
       "      <td>-122.359891</td>\n",
       "      <td>0101000020E6100000FCC7427408975EC009E1D1C611C3...</td>\n",
       "      <td>Cozy Studio, min. to downtown -WiFi</td>\n",
       "    </tr>\n",
       "    <tr>\n",
       "      <th>4</th>\n",
       "      <td>4</td>\n",
       "      <td>6606</td>\n",
       "      <td>14942</td>\n",
       "      <td>Entire home/apt</td>\n",
       "      <td>Seattle, WA, United States</td>\n",
       "      <td>134</td>\n",
       "      <td>4.5</td>\n",
       "      <td>2</td>\n",
       "      <td>1.0</td>\n",
       "      <td>1.0</td>\n",
       "      <td>90</td>\n",
       "      <td>12:38.4</td>\n",
       "      <td>47.654109</td>\n",
       "      <td>-122.337605</td>\n",
       "      <td>0101000020E6100000D47D00529B955EC07782FDD7B9D3...</td>\n",
       "      <td>Fab, private seattle urban cottage!</td>\n",
       "    </tr>\n",
       "  </tbody>\n",
       "</table>\n",
       "</div>"
      ],
      "text/plain": [
       "   ID  Room ID  Host ID        Room Type Address (City, State, Country)  \\\n",
       "0   0     2318     2536  Entire home/apt     Seattle, WA, United States   \n",
       "1   1     3335     4193  Entire home/apt     Seattle, WA, United States   \n",
       "2   2     4291    35749     Private room     Seattle, WA, United States   \n",
       "3   3     5682     8993  Entire home/apt     Seattle, WA, United States   \n",
       "4   4     6606    14942  Entire home/apt     Seattle, WA, United States   \n",
       "\n",
       "   Reviews  Overall satisfaction  Accommodates  Bedrooms  Bathrooms  Price  \\\n",
       "0       21                   4.5             8       4.0        2.5    250   \n",
       "1        1                   NaN             4       2.0        1.0    100   \n",
       "2       63                   4.5             2       1.0        1.0     82   \n",
       "3      462                   5.0             2       NaN        1.0     49   \n",
       "4      134                   4.5             2       1.0        1.0     90   \n",
       "\n",
       "  Last modified   Latitude   Longitude  \\\n",
       "0       46:14.7  47.610819 -122.290816   \n",
       "1       08:45.3  47.529846 -122.275840   \n",
       "2       04:19.9  47.687801 -122.313427   \n",
       "3       11:25.5  47.523980 -122.359891   \n",
       "4       12:38.4  47.654109 -122.337605   \n",
       "\n",
       "                                            Location  \\\n",
       "0  0101000020E6100000D449B6BA9C925EC0416326512FCE...   \n",
       "1  0101000020E61000006FBBD05CA7915EC04DF564FED1C3...   \n",
       "2  0101000020E6100000BDAB1E300F945EC0FB93F8DC09D8...   \n",
       "3  0101000020E6100000FCC7427408975EC009E1D1C611C3...   \n",
       "4  0101000020E6100000D47D00529B955EC07782FDD7B9D3...   \n",
       "\n",
       "                                                Name  \n",
       "0  Casa Madrona - Urban Oasis, 1 block from the P...  \n",
       "1                Sweet Seattle Urban Homestead 2 Bdr  \n",
       "2                    Sunrise in Seattle Master Suite  \n",
       "3                Cozy Studio, min. to downtown -WiFi  \n",
       "4                Fab, private seattle urban cottage!  "
      ]
     },
     "execution_count": 6,
     "metadata": {},
     "output_type": "execute_result"
    }
   ],
   "source": [
    "#Task #3: Add column labels to the data table to reference with column labels.\n",
    "renamedf=pd.read_csv(\"Airbnb_ Price_Data_Renamed.csv\")\n",
    "renamedf.head()"
   ]
  },
  {
   "cell_type": "code",
   "execution_count": 7,
   "id": "aaf14085",
   "metadata": {},
   "outputs": [
    {
     "data": {
      "text/html": [
       "<div>\n",
       "<style scoped>\n",
       "    .dataframe tbody tr th:only-of-type {\n",
       "        vertical-align: middle;\n",
       "    }\n",
       "\n",
       "    .dataframe tbody tr th {\n",
       "        vertical-align: top;\n",
       "    }\n",
       "\n",
       "    .dataframe thead th {\n",
       "        text-align: right;\n",
       "    }\n",
       "</style>\n",
       "<table border=\"1\" class=\"dataframe\">\n",
       "  <thead>\n",
       "    <tr style=\"text-align: right;\">\n",
       "      <th></th>\n",
       "      <th>ID</th>\n",
       "      <th>Room ID</th>\n",
       "      <th>Host ID</th>\n",
       "      <th>Reviews</th>\n",
       "      <th>Overall satisfaction</th>\n",
       "      <th>Accommodates</th>\n",
       "      <th>Bedrooms</th>\n",
       "      <th>Bathrooms</th>\n",
       "      <th>Price</th>\n",
       "      <th>Latitude</th>\n",
       "      <th>Longitude</th>\n",
       "    </tr>\n",
       "  </thead>\n",
       "  <tbody>\n",
       "    <tr>\n",
       "      <th>count</th>\n",
       "      <td>499.000000</td>\n",
       "      <td>4.990000e+02</td>\n",
       "      <td>4.990000e+02</td>\n",
       "      <td>499.000000</td>\n",
       "      <td>480.000000</td>\n",
       "      <td>499.000000</td>\n",
       "      <td>412.000000</td>\n",
       "      <td>497.000000</td>\n",
       "      <td>499.000000</td>\n",
       "      <td>499.000000</td>\n",
       "      <td>499.000000</td>\n",
       "    </tr>\n",
       "    <tr>\n",
       "      <th>mean</th>\n",
       "      <td>258.835671</td>\n",
       "      <td>1.030545e+06</td>\n",
       "      <td>3.641564e+06</td>\n",
       "      <td>105.505010</td>\n",
       "      <td>4.768750</td>\n",
       "      <td>3.659319</td>\n",
       "      <td>1.575243</td>\n",
       "      <td>1.326962</td>\n",
       "      <td>128.789579</td>\n",
       "      <td>47.631635</td>\n",
       "      <td>-122.321124</td>\n",
       "    </tr>\n",
       "    <tr>\n",
       "      <th>std</th>\n",
       "      <td>151.052895</td>\n",
       "      <td>7.414915e+05</td>\n",
       "      <td>3.420512e+06</td>\n",
       "      <td>103.726962</td>\n",
       "      <td>0.370722</td>\n",
       "      <td>2.354217</td>\n",
       "      <td>0.931560</td>\n",
       "      <td>0.678914</td>\n",
       "      <td>272.961944</td>\n",
       "      <td>0.046889</td>\n",
       "      <td>0.056608</td>\n",
       "    </tr>\n",
       "    <tr>\n",
       "      <th>min</th>\n",
       "      <td>0.000000</td>\n",
       "      <td>2.318000e+03</td>\n",
       "      <td>2.536000e+03</td>\n",
       "      <td>0.000000</td>\n",
       "      <td>3.000000</td>\n",
       "      <td>1.000000</td>\n",
       "      <td>0.000000</td>\n",
       "      <td>0.500000</td>\n",
       "      <td>25.000000</td>\n",
       "      <td>47.509636</td>\n",
       "      <td>-122.411812</td>\n",
       "    </tr>\n",
       "    <tr>\n",
       "      <th>25%</th>\n",
       "      <td>127.500000</td>\n",
       "      <td>3.472465e+05</td>\n",
       "      <td>6.902025e+05</td>\n",
       "      <td>28.000000</td>\n",
       "      <td>4.500000</td>\n",
       "      <td>2.000000</td>\n",
       "      <td>1.000000</td>\n",
       "      <td>1.000000</td>\n",
       "      <td>69.000000</td>\n",
       "      <td>47.606179</td>\n",
       "      <td>-122.357422</td>\n",
       "    </tr>\n",
       "    <tr>\n",
       "      <th>50%</th>\n",
       "      <td>259.000000</td>\n",
       "      <td>9.480770e+05</td>\n",
       "      <td>2.739131e+06</td>\n",
       "      <td>70.000000</td>\n",
       "      <td>5.000000</td>\n",
       "      <td>3.000000</td>\n",
       "      <td>1.000000</td>\n",
       "      <td>1.000000</td>\n",
       "      <td>95.000000</td>\n",
       "      <td>47.633457</td>\n",
       "      <td>-122.328379</td>\n",
       "    </tr>\n",
       "    <tr>\n",
       "      <th>75%</th>\n",
       "      <td>387.500000</td>\n",
       "      <td>1.606665e+06</td>\n",
       "      <td>5.663982e+06</td>\n",
       "      <td>151.500000</td>\n",
       "      <td>5.000000</td>\n",
       "      <td>5.000000</td>\n",
       "      <td>2.000000</td>\n",
       "      <td>1.500000</td>\n",
       "      <td>135.000000</td>\n",
       "      <td>47.669483</td>\n",
       "      <td>-122.306102</td>\n",
       "    </tr>\n",
       "    <tr>\n",
       "      <th>max</th>\n",
       "      <td>522.000000</td>\n",
       "      <td>2.593176e+06</td>\n",
       "      <td>1.291342e+07</td>\n",
       "      <td>687.000000</td>\n",
       "      <td>5.000000</td>\n",
       "      <td>16.000000</td>\n",
       "      <td>6.000000</td>\n",
       "      <td>5.000000</td>\n",
       "      <td>5900.000000</td>\n",
       "      <td>47.722727</td>\n",
       "      <td>-122.116795</td>\n",
       "    </tr>\n",
       "  </tbody>\n",
       "</table>\n",
       "</div>"
      ],
      "text/plain": [
       "               ID       Room ID       Host ID     Reviews  \\\n",
       "count  499.000000  4.990000e+02  4.990000e+02  499.000000   \n",
       "mean   258.835671  1.030545e+06  3.641564e+06  105.505010   \n",
       "std    151.052895  7.414915e+05  3.420512e+06  103.726962   \n",
       "min      0.000000  2.318000e+03  2.536000e+03    0.000000   \n",
       "25%    127.500000  3.472465e+05  6.902025e+05   28.000000   \n",
       "50%    259.000000  9.480770e+05  2.739131e+06   70.000000   \n",
       "75%    387.500000  1.606665e+06  5.663982e+06  151.500000   \n",
       "max    522.000000  2.593176e+06  1.291342e+07  687.000000   \n",
       "\n",
       "       Overall satisfaction  Accommodates    Bedrooms   Bathrooms  \\\n",
       "count            480.000000    499.000000  412.000000  497.000000   \n",
       "mean               4.768750      3.659319    1.575243    1.326962   \n",
       "std                0.370722      2.354217    0.931560    0.678914   \n",
       "min                3.000000      1.000000    0.000000    0.500000   \n",
       "25%                4.500000      2.000000    1.000000    1.000000   \n",
       "50%                5.000000      3.000000    1.000000    1.000000   \n",
       "75%                5.000000      5.000000    2.000000    1.500000   \n",
       "max                5.000000     16.000000    6.000000    5.000000   \n",
       "\n",
       "             Price    Latitude   Longitude  \n",
       "count   499.000000  499.000000  499.000000  \n",
       "mean    128.789579   47.631635 -122.321124  \n",
       "std     272.961944    0.046889    0.056608  \n",
       "min      25.000000   47.509636 -122.411812  \n",
       "25%      69.000000   47.606179 -122.357422  \n",
       "50%      95.000000   47.633457 -122.328379  \n",
       "75%     135.000000   47.669483 -122.306102  \n",
       "max    5900.000000   47.722727 -122.116795  "
      ]
     },
     "execution_count": 7,
     "metadata": {},
     "output_type": "execute_result"
    }
   ],
   "source": [
    "renamedf.describe()"
   ]
  },
  {
   "cell_type": "code",
   "execution_count": 8,
   "id": "8431bcbd",
   "metadata": {},
   "outputs": [
    {
     "name": "stdout",
     "output_type": "stream",
     "text": [
      "<class 'pandas.core.frame.DataFrame'>\n",
      "RangeIndex: 499 entries, 0 to 498\n",
      "Data columns (total 16 columns):\n",
      " #   Column                          Non-Null Count  Dtype  \n",
      "---  ------                          --------------  -----  \n",
      " 0   ID                              499 non-null    int64  \n",
      " 1   Room ID                         499 non-null    int64  \n",
      " 2   Host ID                         499 non-null    int64  \n",
      " 3   Room Type                       499 non-null    object \n",
      " 4   Address (City, State, Country)  499 non-null    object \n",
      " 5   Reviews                         499 non-null    int64  \n",
      " 6   Overall satisfaction            480 non-null    float64\n",
      " 7   Accommodates                    499 non-null    int64  \n",
      " 8   Bedrooms                        412 non-null    float64\n",
      " 9   Bathrooms                       497 non-null    float64\n",
      " 10  Price                           499 non-null    int64  \n",
      " 11  Last modified                   499 non-null    object \n",
      " 12  Latitude                        499 non-null    float64\n",
      " 13  Longitude                       499 non-null    float64\n",
      " 14  Location                        499 non-null    object \n",
      " 15  Name                            499 non-null    object \n",
      "dtypes: float64(5), int64(6), object(5)\n",
      "memory usage: 62.5+ KB\n"
     ]
    }
   ],
   "source": [
    "#Finding the missing Values based on the Non-null count\n",
    "renamedf.info()"
   ]
  },
  {
   "cell_type": "markdown",
   "id": "ea8efc22",
   "metadata": {},
   "source": [
    "## Task #4:\n",
    "#### Locate and handle missing values in the dataset. If the percentage of missing values in a column is below 10% of the total  number of records, eliminate the rows with missing values. Otherwise, substitute the missing values with the most frequently occurring value in therespective column."
   ]
  },
  {
   "cell_type": "markdown",
   "id": "6b7f5d6c",
   "metadata": {},
   "source": [
    "### Note: From the above information Columns => Overall satisfaction, Bedrooms, Bathrooms  all these have the missing data\n",
    "### Note: 10 percent of 499 is nearly 50 => If missing count is less than 50 we need to remove the columns and more than 50 we need to add the  most frequently occurring value in the respective column.\n",
    "\n",
    "### Here Overall satisfaction and Bathrooms have few rows that need to be deleted and for Bedrooms column we need to add more "
   ]
  },
  {
   "cell_type": "markdown",
   "id": "969769ba",
   "metadata": {},
   "source": [
    "### 1st Use the Groupby to find and fill the most common value in Bedrooms ==> Missing values >= 10%"
   ]
  },
  {
   "cell_type": "code",
   "execution_count": 9,
   "id": "fc08d946",
   "metadata": {},
   "outputs": [
    {
     "name": "stdout",
     "output_type": "stream",
     "text": [
      "7\n",
      "{0.0: array([204], dtype=int64), 1.0: array([  2,   4,   5,   9,  12,  13,  15,  17,  19,  20,  22,  23,  24,\n",
      "        26,  28,  31,  32,  33,  35,  37,  38,  40,  43,  44,  46,  47,\n",
      "        49,  51,  52,  53,  54,  55,  57,  58,  59,  60,  61,  62,  63,\n",
      "        65,  66,  69,  72,  73,  75,  78,  80,  83,  84,  86,  87,  89,\n",
      "        92,  95,  96,  97,  99, 102, 104, 105, 106, 113, 114, 117, 121,\n",
      "       122, 123, 125, 126, 130, 133, 134, 137, 140, 143, 144, 145, 148,\n",
      "       149, 151, 152, 154, 156, 157, 159, 162, 163, 164, 167, 169, 170,\n",
      "       171, 172, 176, 177, 179, 180, 184, 185, 186, 187, 189, 190, 192,\n",
      "       193, 194, 197, 199, 203, 206, 208, 210, 214, 215, 217, 218, 219,\n",
      "       220, 221, 227, 228, 229, 230, 232, 236, 238, 246, 247, 248, 249,\n",
      "       250, 251, 255, 256, 260, 261, 262, 264, 265, 266, 268, 270, 271,\n",
      "       272, 274, 276, 278, 281, 282, 283, 284, 287, 293, 294, 295, 297,\n",
      "       298, 300, 301, 305, 306, 309, 310, 311, 312, 315, 318, 321, 322,\n",
      "       323, 324, 326, 327, 332, 336, 337, 338, 340, 342, 343, 345, 346,\n",
      "       347, 349, 350, 353, 354, 356, 360, 361, 363, 364, 367, 368, 369,\n",
      "       371, 372, 373, 376, 378, 380, 383, 385, 387, 389, 392, 393, 397,\n",
      "       400, 402, 403, 405, 406, 407, 411, 413, 416, 418, 419, 421, 422,\n",
      "       424, 426, 427, 428, 429, 431, 432, 433, 438, 439, 442, 443, 444,\n",
      "       446, 449, 451, 452, 453, 457, 462, 465, 467, 469, 470, 473, 474,\n",
      "       478, 479, 480, 483, 484, 486, 487, 488, 490, 494, 495], dtype=int64), 2.0: array([  1,   7,   8,  10,  27,  29,  30,  41,  56,  64,  70,  88,  93,\n",
      "        94,  98, 103, 107, 108, 109, 112, 115, 116, 118, 119, 124, 127,\n",
      "       128, 135, 136, 139, 160, 165, 174, 175, 188, 191, 195, 196, 200,\n",
      "       201, 202, 205, 207, 212, 223, 224, 225, 226, 234, 235, 239, 240,\n",
      "       241, 242, 243, 244, 245, 252, 253, 258, 269, 273, 289, 290, 291,\n",
      "       303, 313, 316, 317, 325, 333, 335, 341, 355, 362, 374, 379, 395,\n",
      "       398, 410, 412, 414, 420, 436, 437, 445, 455, 458, 459, 460, 461,\n",
      "       464, 468, 492, 497], dtype=int64), 3.0: array([ 14,  16,  25,  34,  71,  74,  85,  90, 101, 111, 138, 141, 142,\n",
      "       146, 161, 168, 178, 182, 198, 216, 222, 259, 275, 277, 279, 285,\n",
      "       286, 288, 302, 307, 314, 328, 334, 339, 384, 388, 390, 408, 409,\n",
      "       417, 447, 485], dtype=int64), 4.0: array([  0,  82, 183, 209, 233, 358, 440, 471, 477], dtype=int64), 5.0: array([173, 213, 319], dtype=int64), 6.0: array([129, 131, 381, 482], dtype=int64)}\n",
      "Bedrooms\n",
      "0.0      1\n",
      "1.0    258\n",
      "2.0     95\n",
      "3.0     42\n",
      "4.0      9\n",
      "5.0      3\n",
      "6.0      4\n",
      "dtype: int64\n"
     ]
    }
   ],
   "source": [
    "bedroom_group = renamedf.groupby('Bedrooms')\n",
    "# print(bedroom_group)\n",
    "print(len(bedroom_group))\n",
    "print(bedroom_group.indices)\n",
    "print(bedroom_group.size())"
   ]
  },
  {
   "cell_type": "markdown",
   "id": "116c9859",
   "metadata": {},
   "source": [
    "### Note: From the above Information Bedroom count 1.0 is Repeting most Freqently and so filling the null values with this values"
   ]
  },
  {
   "cell_type": "code",
   "execution_count": 10,
   "id": "88433054",
   "metadata": {},
   "outputs": [],
   "source": [
    "value = 1.0\n",
    "renamedf['Bedrooms'] = renamedf['Bedrooms'].fillna(value)"
   ]
  },
  {
   "cell_type": "code",
   "execution_count": 11,
   "id": "c14b981f",
   "metadata": {},
   "outputs": [
    {
     "name": "stdout",
     "output_type": "stream",
     "text": [
      "<class 'pandas.core.frame.DataFrame'>\n",
      "RangeIndex: 499 entries, 0 to 498\n",
      "Data columns (total 16 columns):\n",
      " #   Column                          Non-Null Count  Dtype  \n",
      "---  ------                          --------------  -----  \n",
      " 0   ID                              499 non-null    int64  \n",
      " 1   Room ID                         499 non-null    int64  \n",
      " 2   Host ID                         499 non-null    int64  \n",
      " 3   Room Type                       499 non-null    object \n",
      " 4   Address (City, State, Country)  499 non-null    object \n",
      " 5   Reviews                         499 non-null    int64  \n",
      " 6   Overall satisfaction            480 non-null    float64\n",
      " 7   Accommodates                    499 non-null    int64  \n",
      " 8   Bedrooms                        499 non-null    float64\n",
      " 9   Bathrooms                       497 non-null    float64\n",
      " 10  Price                           499 non-null    int64  \n",
      " 11  Last modified                   499 non-null    object \n",
      " 12  Latitude                        499 non-null    float64\n",
      " 13  Longitude                       499 non-null    float64\n",
      " 14  Location                        499 non-null    object \n",
      " 15  Name                            499 non-null    object \n",
      "dtypes: float64(5), int64(6), object(5)\n",
      "memory usage: 62.5+ KB\n",
      "Bedrooms\n",
      "0.0      1\n",
      "1.0    345\n",
      "2.0     95\n",
      "3.0     42\n",
      "4.0      9\n",
      "5.0      3\n",
      "6.0      4\n",
      "dtype: int64\n"
     ]
    }
   ],
   "source": [
    "renamedf.info()\n",
    "\n",
    "#After filling the values checking the overall size of the Bedrooms column\n",
    "bedroom_group_changed = renamedf.groupby('Bedrooms')\n",
    "print(bedroom_group_changed.size())"
   ]
  },
  {
   "cell_type": "code",
   "execution_count": 12,
   "id": "b540f9d5",
   "metadata": {},
   "outputs": [
    {
     "name": "stdout",
     "output_type": "stream",
     "text": [
      "Count of Null values in both Columns =  21 \n",
      "\n",
      "      ID  Room ID   Host ID        Room Type  \\\n",
      "1      1     3335      4193  Entire home/apt   \n",
      "12    12    10385     35749     Private room   \n",
      "68    70   143580    594315     Private room   \n",
      "71    73   152568    734114  Entire home/apt   \n",
      "82    85   191795    928106  Entire home/apt   \n",
      "98   101   229990   1201633  Entire home/apt   \n",
      "100  103   233502   1215564     Private room   \n",
      "123  126   340738   1729224  Entire home/apt   \n",
      "138  141   408526   2034501  Entire home/apt   \n",
      "146  149   451012   2234071  Entire home/apt   \n",
      "172  175   604600    103427  Entire home/apt   \n",
      "174  177   609252   3018655  Entire home/apt   \n",
      "229  238   867758   1448060  Entire home/apt   \n",
      "233  242   890478   4727621  Entire home/apt   \n",
      "307  320  1252084    951427     Private room   \n",
      "380  394  1629525   8660724     Private room   \n",
      "381  395  1634285   8681464  Entire home/apt   \n",
      "390  404  1696389   8956137  Entire home/apt   \n",
      "421  437  1885801   3302799     Private room   \n",
      "466  488  2267862  11580391  Entire home/apt   \n",
      "492  516  2540201  12263972  Entire home/apt   \n",
      "\n",
      "       Address (City, State, Country)  Reviews  Overall satisfaction  \\\n",
      "1          Seattle, WA, United States        1                   NaN   \n",
      "12         Seattle, WA, United States       94                   4.5   \n",
      "68         Seattle, WA, United States      347                   4.5   \n",
      "71   Mercer Island, WA, United States        2                   NaN   \n",
      "82        Kirkland, WA, United States        2                   NaN   \n",
      "98         Seattle, WA, United States        1                   NaN   \n",
      "100        Seattle, WA, United States        1                   NaN   \n",
      "123        Seattle, WA, United States        0                   NaN   \n",
      "138        Seattle, WA, United States        0                   NaN   \n",
      "146        Seattle, WA, United States        2                   NaN   \n",
      "172        Seattle, WA, United States        1                   NaN   \n",
      "174        Seattle, WA, United States        2                   NaN   \n",
      "229        Seattle, WA, United States        0                   NaN   \n",
      "233  Mercer Island, WA, United States        0                   NaN   \n",
      "307        Seattle, WA, United States        0                   NaN   \n",
      "380        Seattle, WA, United States        2                   NaN   \n",
      "381        Seattle, WA, United States        1                   NaN   \n",
      "390        Seattle, WA, United States        1                   NaN   \n",
      "421        Seattle, WA, United States        0                   NaN   \n",
      "466        Seattle, WA, United States        2                   NaN   \n",
      "492        Seattle, WA, United States        0                   NaN   \n",
      "\n",
      "     Accommodates  Bedrooms  Bathrooms  Price Last modified   Latitude  \\\n",
      "1               4       2.0        1.0    100       08:45.3  47.529846   \n",
      "12              2       1.0        NaN     41       04:34.8  47.695719   \n",
      "68              2       1.0        NaN     82       44:55.3  47.583787   \n",
      "71             10       3.0        4.5   5900       39:23.6  47.592590   \n",
      "82             12       4.0        2.5    250       57:04.8  47.722114   \n",
      "98              9       2.0        2.0    150       05:13.6  47.578229   \n",
      "100             2       1.0        1.0     60       05:14.6  47.573266   \n",
      "123             2       1.0        1.0    195       16:13.6  47.623443   \n",
      "138             7       3.0        4.0    218       09:01.9  47.675533   \n",
      "146             6       3.0        2.0    195       06:33.3  47.713518   \n",
      "172             4       1.0        1.0    210       56:46.9  47.614364   \n",
      "174             4       2.0        1.0    275       06:33.3  47.698613   \n",
      "229             4       1.0        1.5    200       24:58.0  47.623025   \n",
      "233             8       4.0        4.0    650       40:55.7  47.529185   \n",
      "307             6       3.0        2.0    111       49:25.1  47.605657   \n",
      "380             1       1.0        1.0     60       03:15.5  47.576376   \n",
      "381            16       6.0        3.0    800       30:17.3  47.658257   \n",
      "390             6       3.0        2.0    185       35:02.9  47.631494   \n",
      "421             2       1.0        1.0    150       08:45.3  47.526740   \n",
      "466             2       1.0        1.0    115       29:42.3  47.664051   \n",
      "492             2       2.0        1.0     55       04:42.3  47.675900   \n",
      "\n",
      "      Longitude                                           Location  \\\n",
      "1   -122.275840  0101000020E61000006FBBD05CA7915EC04DF564FED1C3...   \n",
      "12  -122.311944  0101000020E6100000BD8BF7E3F6935EC0581AF8510DD9...   \n",
      "68  -122.316770  0101000020E6100000A796ADF545945EC03C6A4C88B9CA...   \n",
      "71  -122.246703  0101000020E6100000CE3461FBC98F5EC0E4F736FDD9CB...   \n",
      "82  -122.222447  0101000020E6100000F98557923C8E5EC0EBFD463B6EDC...   \n",
      "98  -122.411812  0101000020E61000006C06B8205B9A5EC0A54C6A6803CA...   \n",
      "100 -122.374361  0101000020E610000076F9D687F5975EC051F4C0C760C9...   \n",
      "123 -122.306587  0101000020E61000003D98141F9F935EC0C7F5EFFACCCF...   \n",
      "138 -122.376324  0101000020E6100000CB2C42B115985EC0342F87DD77D6...   \n",
      "146 -122.358735  0101000020E61000008E3BA583F5965EC0BD8DCD8E54DB...   \n",
      "172 -122.331716  0101000020E6100000D6E3BED53A955EC07DEBC37AA3CE...   \n",
      "174 -122.363442  0101000020E61000008BFF3BA242975EC0BDC799266CD9...   \n",
      "229 -122.320884  0101000020E6100000D2730B5D89945EC092CB7F48BFCF...   \n",
      "233 -122.222475  0101000020E61000005E4BC8073D8E5EC052448655BCC3...   \n",
      "307 -122.331860  0101000020E610000070B6B9313D955EC0F7CB272B86CD...   \n",
      "380 -122.302527  0101000020E61000000CCA349A5C935EC0831953B0C6C9...   \n",
      "381 -122.350817  0101000020E6100000607825C973965EC079AEEFC341D4...   \n",
      "390 -122.372125  0101000020E6100000894160E5D0975EC064CF9ECBD4D0...   \n",
      "421 -122.274800  0101000020E6100000363CBD5296915EC05DBF60376CC3...   \n",
      "466 -122.367419  0101000020E6100000753BFBCA83975EC024F0879FFFD4...   \n",
      "492 -122.314410  0101000020E610000043E21E4B1F945EC0E6AE25E483D6...   \n",
      "\n",
      "                                                  Name  \n",
      "1                  Sweet Seattle Urban Homestead 2 Bdr  \n",
      "12                  Upscale Seattle Hotel Alternative   \n",
      "68                  N. Beacon Hill- Super Private Room  \n",
      "71                           Luxury Waterfront Mansion  \n",
      "82                  *Fully Stocked, Spacious 4BR Home*  \n",
      "98                       Alki Beach 1/2 block to beach  \n",
      "100                West Seattle room with private bath  \n",
      "123                     Victorian home on Capitol Hill  \n",
      "138                 Chic 3 bed 4 bath Ballard townhome  \n",
      "146                       Spacious house near Ballard   \n",
      "172                                   condo in seattle  \n",
      "174  Sans souci in Seattle: Clean, fresh air (4 gue...  \n",
      "229    Gorgeous Capitol Hill loft, walk to everything!  \n",
      "233                    Mercer Island  waterfront Villa  \n",
      "307             Beautiful Large 3 bedroom 2 Bath Condo  \n",
      "380                          Forest Street Guest House  \n",
      "381     Fremont Abbey, 1914 brick renovated for events  \n",
      "390         LUXURY Seattle Home Monthly Rate Available  \n",
      "421                   Feel nature and city convenience  \n",
      "466                              Ballard Modern Studio  \n",
      "492                                  Ravenna 2 bedroom  \n"
     ]
    }
   ],
   "source": [
    "#Checking the count of null values as\n",
    "null_values = renamedf[(renamedf['Overall satisfaction'].isnull()) | (renamedf['Bathrooms'].isnull())]\n",
    "print(\"Count of Null values in both Columns = \",len(null_values),'\\n')\n",
    "print(null_values)"
   ]
  },
  {
   "cell_type": "code",
   "execution_count": 13,
   "id": "fc43da56",
   "metadata": {},
   "outputs": [
    {
     "name": "stdout",
     "output_type": "stream",
     "text": [
      "499\n"
     ]
    }
   ],
   "source": [
    "print(len(renamedf))"
   ]
  },
  {
   "cell_type": "code",
   "execution_count": 14,
   "id": "9b2fdf63",
   "metadata": {},
   "outputs": [
    {
     "name": "stdout",
     "output_type": "stream",
     "text": [
      "<class 'pandas.core.frame.DataFrame'>\n",
      "Int64Index: 478 entries, 0 to 498\n",
      "Data columns (total 16 columns):\n",
      " #   Column                          Non-Null Count  Dtype  \n",
      "---  ------                          --------------  -----  \n",
      " 0   ID                              478 non-null    int64  \n",
      " 1   Room ID                         478 non-null    int64  \n",
      " 2   Host ID                         478 non-null    int64  \n",
      " 3   Room Type                       478 non-null    object \n",
      " 4   Address (City, State, Country)  478 non-null    object \n",
      " 5   Reviews                         478 non-null    int64  \n",
      " 6   Overall satisfaction            478 non-null    float64\n",
      " 7   Accommodates                    478 non-null    int64  \n",
      " 8   Bedrooms                        478 non-null    float64\n",
      " 9   Bathrooms                       478 non-null    float64\n",
      " 10  Price                           478 non-null    int64  \n",
      " 11  Last modified                   478 non-null    object \n",
      " 12  Latitude                        478 non-null    float64\n",
      " 13  Longitude                       478 non-null    float64\n",
      " 14  Location                        478 non-null    object \n",
      " 15  Name                            478 non-null    object \n",
      "dtypes: float64(5), int64(6), object(5)\n",
      "memory usage: 63.5+ KB\n",
      "Size of the data frame after droping the null values =  478 \n",
      "\n"
     ]
    }
   ],
   "source": [
    "# Missing values < 10% is getting dropped\n",
    "finaldf = renamedf.dropna()\n",
    "#renamedf.head()\n",
    "finaldf.info()\n",
    "print(\"Size of the data frame after droping the null values = \",len(finaldf),'\\n')"
   ]
  },
  {
   "cell_type": "code",
   "execution_count": 15,
   "id": "8b82ecc4",
   "metadata": {},
   "outputs": [],
   "source": [
    "finaldf.to_csv('Airbnb_ Price_Data_Final.csv',index=False)"
   ]
  },
  {
   "cell_type": "markdown",
   "id": "b09e7380",
   "metadata": {},
   "source": [
    "## Task #5: Using the cleaned data, conduct preliminary data analysis and output the following information."
   ]
  },
  {
   "cell_type": "markdown",
   "id": "7be5fb69",
   "metadata": {},
   "source": [
    "### a) Calculate the average rental price of the entire rental property."
   ]
  },
  {
   "cell_type": "code",
   "execution_count": 16,
   "id": "77698382",
   "metadata": {},
   "outputs": [
    {
     "name": "stdout",
     "output_type": "stream",
     "text": [
      "               ID       Room ID       Host ID     Reviews  \\\n",
      "count  478.000000  4.780000e+02  4.780000e+02  478.000000   \n",
      "mean   260.485356  1.038071e+06  3.645887e+06  109.179916   \n",
      "std    150.571820  7.394034e+05  3.399559e+06  103.254063   \n",
      "min      0.000000  2.318000e+03  2.536000e+03    3.000000   \n",
      "25%    130.250000  3.563380e+05  6.818358e+05   31.000000   \n",
      "50%    263.000000  9.646825e+05  2.764571e+06   75.500000   \n",
      "75%    386.750000  1.603161e+06  5.678351e+06  154.000000   \n",
      "max    522.000000  2.593176e+06  1.291342e+07  687.000000   \n",
      "\n",
      "       Overall satisfaction  Accommodates    Bedrooms   Bathrooms       Price  \\\n",
      "count            478.000000    478.000000  478.000000  478.000000  478.000000   \n",
      "mean               4.769874      3.587866    1.443515    1.303347  113.523013   \n",
      "std                0.371089      2.240194    0.834245    0.642673   77.567489   \n",
      "min                3.000000      1.000000    0.000000    0.500000   25.000000   \n",
      "25%                4.500000      2.000000    1.000000    1.000000   69.000000   \n",
      "50%                5.000000      3.000000    1.000000    1.000000   92.500000   \n",
      "75%                5.000000      4.000000    2.000000    1.500000  132.250000   \n",
      "max                5.000000     16.000000    6.000000    5.000000  700.000000   \n",
      "\n",
      "         Latitude   Longitude  \n",
      "count  478.000000  478.000000  \n",
      "mean    47.631996 -122.321102  \n",
      "std      0.046234    0.056871  \n",
      "min     47.509636 -122.411667  \n",
      "25%     47.606750 -122.357305  \n",
      "50%     47.634038 -122.328512  \n",
      "75%     47.669207 -122.306842  \n",
      "max     47.722727 -122.116795  \n",
      "Average Rental Price of Rental Property =  113.52301255230125\n"
     ]
    }
   ],
   "source": [
    "print(finaldf.describe())\n",
    "\n",
    "mean_value = finaldf['Price'].mean()\n",
    "print(\"Average Rental Price of Rental Property = \",mean_value)"
   ]
  },
  {
   "cell_type": "markdown",
   "id": "51fbe8e6",
   "metadata": {},
   "source": [
    "### b) Enumerate the types of rooms in the dataset."
   ]
  },
  {
   "cell_type": "code",
   "execution_count": 17,
   "id": "e5de1b0e",
   "metadata": {},
   "outputs": [
    {
     "name": "stdout",
     "output_type": "stream",
     "text": [
      "Room types ['Entire home/apt' 'Private room' 'Shared room']\n",
      "Types of rooms in the dataset:\n",
      "1. Entire home/apt\n",
      "2. Private room\n",
      "3. Shared room\n"
     ]
    }
   ],
   "source": [
    "room_types = finaldf['Room Type'].unique()\n",
    "print(\"Room types\",room_types)\n",
    "\n",
    "print(\"Types of rooms in the dataset:\")\n",
    "for rt, room_type in enumerate(room_types, start=1):\n",
    "    print(f\"{rt}. {room_type}\")"
   ]
  },
  {
   "cell_type": "markdown",
   "id": "c51ccc2f",
   "metadata": {},
   "source": [
    "### c) Compute the average rental price for each type of room."
   ]
  },
  {
   "cell_type": "code",
   "execution_count": 18,
   "id": "b605e291",
   "metadata": {},
   "outputs": [
    {
     "name": "stdout",
     "output_type": "stream",
     "text": [
      "The Average Rental Price for Each type of Room Room Type\n",
      "Entire home/apt    137.802508\n",
      "Private room        64.607843\n",
      "Shared room         70.000000\n",
      "Name: Price, dtype: float64\n"
     ]
    }
   ],
   "source": [
    "Roomtype_group = finaldf.groupby('Room Type')\n",
    "\n",
    "Roomtype_avg = Roomtype_group['Price'].mean()\n",
    "\n",
    "print(\"The Average Rental Price for Each type of Room\",Roomtype_avg)\n"
   ]
  },
  {
   "cell_type": "markdown",
   "id": "b0f66de7",
   "metadata": {},
   "source": [
    "### d) Count the number of rental properties that received reviews equal to or higher than 4.0."
   ]
  },
  {
   "cell_type": "code",
   "execution_count": 19,
   "id": "ff7b8c4b",
   "metadata": {},
   "outputs": [
    {
     "name": "stdout",
     "output_type": "stream",
     "text": [
      "475\n"
     ]
    }
   ],
   "source": [
    "reviewdf = finaldf['Reviews'] >= 4.0\n",
    "reviewcount = finaldf[reviewdf]\n",
    "#print(reviewcount)\n",
    "print(len(reviewcount))"
   ]
  },
  {
   "cell_type": "markdown",
   "id": "b7279bbd",
   "metadata": {},
   "source": [
    "### e) Find the number of rental properties per room type that received reviews equal to or higher than 4.0."
   ]
  },
  {
   "cell_type": "code",
   "execution_count": 20,
   "id": "d29f5391",
   "metadata": {},
   "outputs": [
    {
     "name": "stdout",
     "output_type": "stream",
     "text": [
      "Number of Rental Properties Per Room type that received reviews equal to or higher than 4.0. Room Type\n",
      "Entire home/apt    316\n",
      "Private room       153\n",
      "Shared room          6\n",
      "dtype: int64\n"
     ]
    }
   ],
   "source": [
    "Rental_perroom = reviewcount.groupby('Room Type')\n",
    "\n",
    "print(\"Number of Rental Properties Per Room type that received reviews equal to or higher than 4.0.\",Rental_perroom.size())\n"
   ]
  },
  {
   "cell_type": "markdown",
   "id": "64f95e5a",
   "metadata": {},
   "source": [
    "### f) Segment the city name (the first token) from the string in the ‘Address’ column and save it into a new column of your data structure."
   ]
  },
  {
   "cell_type": "code",
   "execution_count": 21,
   "id": "d6c4482b",
   "metadata": {},
   "outputs": [
    {
     "name": "stdout",
     "output_type": "stream",
     "text": [
      "      ID  Room ID  Host ID        Room Type Address (City, State, Country)  \\\n",
      "0      0     2318     2536  Entire home/apt     Seattle, WA, United States   \n",
      "2      2     4291    35749     Private room     Seattle, WA, United States   \n",
      "3      3     5682     8993  Entire home/apt     Seattle, WA, United States   \n",
      "4      4     6606    14942  Entire home/apt     Seattle, WA, United States   \n",
      "5      5     9419    30559     Private room     Seattle, WA, United States   \n",
      "..   ...      ...      ...              ...                            ...   \n",
      "494  518  2578855  5507715  Entire home/apt     Seattle, WA, United States   \n",
      "495  519  2585090  1560318     Private room    Kirkland, WA, United States   \n",
      "496  520  2586350  2536735  Entire home/apt     Seattle, WA, United States   \n",
      "497  521  2586642  1452570  Entire home/apt     Seattle, WA, United States   \n",
      "498  522  2593176  8932486     Private room     Seattle, WA, United States   \n",
      "\n",
      "     Reviews  Overall satisfaction  Accommodates  Bedrooms  Bathrooms  Price  \\\n",
      "0         21                   4.5             8       4.0        2.5    250   \n",
      "2         63                   4.5             2       1.0        1.0     82   \n",
      "3        462                   5.0             2       1.0        1.0     49   \n",
      "4        134                   4.5             2       1.0        1.0     90   \n",
      "5        130                   4.5             2       1.0        3.0     65   \n",
      "..       ...                   ...           ...       ...        ...    ...   \n",
      "494      259                   5.0             3       1.0        1.0     70   \n",
      "495       10                   5.0             1       1.0        1.0     38   \n",
      "496      142                   4.5             6       1.0        1.0     85   \n",
      "497       62                   4.5             4       2.0        1.0    123   \n",
      "498      218                   5.0             2       1.0        2.0     42   \n",
      "\n",
      "    Last modified   Latitude   Longitude  \\\n",
      "0         46:14.7  47.610819 -122.290816   \n",
      "2         04:19.9  47.687801 -122.313427   \n",
      "3         11:25.5  47.523980 -122.359891   \n",
      "4         12:38.4  47.654109 -122.337605   \n",
      "5         08:20.1  47.550167 -122.319366   \n",
      "..            ...        ...         ...   \n",
      "494       05:19.6  47.685837 -122.350399   \n",
      "495       54:01.1  47.680862 -122.169830   \n",
      "496       08:25.0  47.539639 -122.276871   \n",
      "497       28:13.7  47.642362 -122.377509   \n",
      "498       52:58.6  47.611717 -122.313080   \n",
      "\n",
      "                                              Location  \\\n",
      "0    0101000020E6100000D449B6BA9C925EC0416326512FCE...   \n",
      "2    0101000020E6100000BDAB1E300F945EC0FB93F8DC09D8...   \n",
      "3    0101000020E6100000FCC7427408975EC009E1D1C611C3...   \n",
      "4    0101000020E6100000D47D00529B955EC07782FDD7B9D3...   \n",
      "5    0101000020E6100000145D177E70945EC0522B4CDF6BC6...   \n",
      "..                                                 ...   \n",
      "494  0101000020E61000004563EDEF6C965EC081B1BE81C9D7...   \n",
      "495  0101000020E61000004DF8A57EDE8A5EC0698B6B7C26D7...   \n",
      "496  0101000020E61000007E8D2441B8915EC0B55208E412C5...   \n",
      "497  0101000020E6100000863C821B29985EC0B91803EB38D2...   \n",
      "498  0101000020E61000000742B28009945EC020B41EBE4CCE...   \n",
      "\n",
      "                                                  Name      City  \n",
      "0    Casa Madrona - Urban Oasis, 1 block from the P...   Seattle  \n",
      "2                      Sunrise in Seattle Master Suite   Seattle  \n",
      "3                  Cozy Studio, min. to downtown -WiFi   Seattle  \n",
      "4                  Fab, private seattle urban cottage!   Seattle  \n",
      "5                  Glorious sun room w/ memory foambed   Seattle  \n",
      "..                                                 ...       ...  \n",
      "494                Cozy Suite in Even Cozier Location!   Seattle  \n",
      "495  Nice Clean Comfortable Home close too everythi...  Kirkland  \n",
      "496                   Seattle Home Close to Light Rail   Seattle  \n",
      "497                         Charming 2 bedroom Getaway   Seattle  \n",
      "498                        Spring Street Center Room 4   Seattle  \n",
      "\n",
      "[478 rows x 17 columns]\n"
     ]
    },
    {
     "name": "stderr",
     "output_type": "stream",
     "text": [
      "C:\\Users\\rahul\\AppData\\Local\\Temp\\ipykernel_21132\\1185518.py:1: SettingWithCopyWarning: \n",
      "A value is trying to be set on a copy of a slice from a DataFrame.\n",
      "Try using .loc[row_indexer,col_indexer] = value instead\n",
      "\n",
      "See the caveats in the documentation: https://pandas.pydata.org/pandas-docs/stable/user_guide/indexing.html#returning-a-view-versus-a-copy\n",
      "  finaldf['City'] = finaldf['Address (City, State, Country)'].str.split(',').str[0]\n"
     ]
    }
   ],
   "source": [
    "finaldf['City'] = finaldf['Address (City, State, Country)'].str.split(',').str[0]\n",
    "\n",
    "print(finaldf)\n"
   ]
  },
  {
   "cell_type": "markdown",
   "id": "92edfa24",
   "metadata": {},
   "source": [
    "### g) Calculate the average rental price per city, respectively."
   ]
  },
  {
   "cell_type": "code",
   "execution_count": 22,
   "id": "74ac088c",
   "metadata": {},
   "outputs": [
    {
     "name": "stdout",
     "output_type": "stream",
     "text": [
      "Average Rental Price per city: City\n",
      "Ballard           75.000000\n",
      "Bellevue          96.600000\n",
      "Kirkland          87.750000\n",
      "Mercer Island    130.500000\n",
      "Redmond           52.466667\n",
      "Renton            60.000000\n",
      "Seattle          116.582766\n",
      "Name: Price, dtype: float64\n"
     ]
    }
   ],
   "source": [
    "cityRental = finaldf.groupby('City')\n",
    "\n",
    "cityRentalAvg = cityRental['Price'].mean()\n",
    "\n",
    "print(\"Average Rental Price per city:\", cityRentalAvg)"
   ]
  },
  {
   "cell_type": "markdown",
   "id": "9bbfb0e4",
   "metadata": {},
   "source": [
    "### h) Calculate the average overall satisfaction of users per city, respectively."
   ]
  },
  {
   "cell_type": "code",
   "execution_count": 23,
   "id": "993bb04e",
   "metadata": {},
   "outputs": [
    {
     "name": "stdout",
     "output_type": "stream",
     "text": [
      "Average Overall Satisfaction of Users per city City\n",
      "Ballard          5.000000\n",
      "Bellevue         4.550000\n",
      "Kirkland         4.750000\n",
      "Mercer Island    4.750000\n",
      "Redmond          4.666667\n",
      "Renton           5.000000\n",
      "Seattle          4.777778\n",
      "Name: Overall satisfaction, dtype: float64\n"
     ]
    }
   ],
   "source": [
    "cityOverallSatAvg = cityRental['Overall satisfaction'].mean()\n",
    "\n",
    "print(\"Average Overall Satisfaction of Users per city\",cityOverallSatAvg)"
   ]
  },
  {
   "cell_type": "markdown",
   "id": "25303a53",
   "metadata": {},
   "source": [
    "# Task #6: Using the cleaned data, visualize the following information and mention your observation for each visualization"
   ]
  },
  {
   "cell_type": "code",
   "execution_count": 24,
   "id": "0f639164",
   "metadata": {},
   "outputs": [],
   "source": [
    "import matplotlib.pyplot as plt"
   ]
  },
  {
   "cell_type": "markdown",
   "id": "c587c614",
   "metadata": {},
   "source": [
    "### a. Show the relationship between the number of bedrooms vs. the average price."
   ]
  },
  {
   "cell_type": "code",
   "execution_count": 25,
   "id": "dbd2b4c8",
   "metadata": {},
   "outputs": [
    {
     "name": "stdout",
     "output_type": "stream",
     "text": [
      "Information Related to Bedrooms and their Average Price:\n",
      "   Bedrooms       Price\n",
      "0       0.0   90.000000\n",
      "1       1.0   84.303571\n",
      "2       2.0  150.417582\n",
      "3       3.0  208.297297\n",
      "4       4.0  254.142857\n",
      "5       5.0  383.000000\n",
      "6       6.0  508.333333\n"
     ]
    },
    {
     "data": {
      "image/png": "[encoded data removed]",
      "text/plain": [
       "<Figure size 640x480 with 1 Axes>"
      ]
     },
     "metadata": {},
     "output_type": "display_data"
    }
   ],
   "source": [
    "bedroomgrp = finaldf.groupby('Bedrooms')\n",
    "bedroomgrpAvg = bedroomgrp['Price'].mean().reset_index()\n",
    "\n",
    "print(\"Information Related to Bedrooms and their Average Price:\")\n",
    "print(bedroomgrpAvg)\n",
    "\n",
    "\n",
    "plt.bar(bedroomgrpAvg['Bedrooms'], bedroomgrpAvg['Price'])\n",
    "plt.title('Relationship between the Number of bedrooms vs. the Average price')\n",
    "plt.xlabel('Bedrooms')\n",
    "plt.ylabel('Average Price')\n",
    "plt.show()\n"
   ]
  },
  {
   "cell_type": "markdown",
   "id": "8abe47e3",
   "metadata": {},
   "source": [
    "### b. Show the relationship between the accommodation vs. the average price."
   ]
  },
  {
   "cell_type": "code",
   "execution_count": 26,
   "id": "2471bc10",
   "metadata": {},
   "outputs": [
    {
     "name": "stdout",
     "output_type": "stream",
     "text": [
      "Information Related to Accommodation and their Average Price:\n",
      "    Accommodates       Price\n",
      "0              1   58.725000\n",
      "1              2   80.065934\n",
      "2              3  100.142857\n",
      "3              4  118.206186\n",
      "4              5  115.266667\n",
      "5              6  168.112903\n",
      "6              7  149.125000\n",
      "7              8  224.150000\n",
      "8              9  307.500000\n",
      "9             10  307.714286\n",
      "10            14  249.000000\n",
      "11            16  412.500000\n"
     ]
    },
    {
     "data": {
      "image/png": "[encoded data removed]",
      "text/plain": [
       "<Figure size 640x480 with 1 Axes>"
      ]
     },
     "metadata": {},
     "output_type": "display_data"
    }
   ],
   "source": [
    "accomadationgrp = finaldf.groupby('Accommodates')\n",
    "accomadationgrpAvg = accomadationgrp['Price'].mean().reset_index()\n",
    "\n",
    "print(\"Information Related to Accommodation and their Average Price:\")\n",
    "print(accomadationgrpAvg)\n",
    "\n",
    "plt.bar(accomadationgrpAvg['Accommodates'], accomadationgrpAvg['Price'])\n",
    "plt.title('Relationship Between the Accommodation vs. the average price')\n",
    "plt.xlabel('Accommodates')\n",
    "plt.ylabel('Average Price')\n",
    "plt.xticks(accomadationgrpAvg['Accommodates'], labels=accomadationgrpAvg['Accommodates'])\n",
    "\n",
    "plt.show()"
   ]
  },
  {
   "cell_type": "markdown",
   "id": "3dc534d6",
   "metadata": {},
   "source": [
    "### c. Show the relationship between room types and average prices."
   ]
  },
  {
   "cell_type": "code",
   "execution_count": 27,
   "id": "60d5c587",
   "metadata": {},
   "outputs": [
    {
     "name": "stdout",
     "output_type": "stream",
     "text": [
      "Information Related to Room Types and their Average Prices:\n",
      "         Room Type       Price\n",
      "0  Entire home/apt  137.802508\n",
      "1     Private room   64.607843\n",
      "2      Shared room   70.000000\n"
     ]
    },
    {
     "data": {
      "image/png": "[encoded data removed]",
      "text/plain": [
       "<Figure size 640x480 with 1 Axes>"
      ]
     },
     "metadata": {},
     "output_type": "display_data"
    }
   ],
   "source": [
    "roomtypegrp = finaldf.groupby('Room Type')\n",
    "roomtypegrpAvg = roomtypegrp['Price'].mean().reset_index()\n",
    "\n",
    "print(\"Information Related to Room Types and their Average Prices:\")\n",
    "print(roomtypegrpAvg)\n",
    "\n",
    "plt.bar(roomtypegrpAvg['Room Type'], roomtypegrpAvg['Price'])\n",
    "plt.title('Relationship Between the Room Types vs. the average price')\n",
    "plt.xlabel('Room_Type')\n",
    "plt.ylabel('Average Price')\n",
    "plt.show()"
   ]
  },
  {
   "cell_type": "markdown",
   "id": "498bba79",
   "metadata": {},
   "source": [
    "### d. Show the relationship between the number of reviews vs. the rental price."
   ]
  },
  {
   "cell_type": "code",
   "execution_count": 28,
   "id": "d73b0834",
   "metadata": {},
   "outputs": [
    {
     "data": {
      "image/png": "[encoded data removed]",
      "text/plain": [
       "<Figure size 640x480 with 1 Axes>"
      ]
     },
     "metadata": {},
     "output_type": "display_data"
    }
   ],
   "source": [
    "\n",
    "plt.scatter(finaldf['Reviews'], finaldf['Price'])\n",
    "plt.title('Relationship between the Number of reviews vs. the Rental price')\n",
    "plt.xlabel('Reviews')\n",
    "plt.ylabel('Price')\n",
    "plt.show()"
   ]
  },
  {
   "cell_type": "markdown",
   "id": "225722ac",
   "metadata": {},
   "source": [
    "### e. Show the user’s overall satisfaction vs. the rental price."
   ]
  },
  {
   "cell_type": "code",
   "execution_count": 29,
   "id": "b3dfdfa0",
   "metadata": {},
   "outputs": [
    {
     "data": {
      "image/png": "[encoded data removed]",
      "text/plain": [
       "<Figure size 640x480 with 1 Axes>"
      ]
     },
     "metadata": {},
     "output_type": "display_data"
    }
   ],
   "source": [
    "plt.scatter(finaldf['Overall satisfaction'], finaldf['Price'])\n",
    "plt.title('Relationship between User’s overall satisfaction vs. the rental price')\n",
    "plt.xlabel('Overall Satisfaction')\n",
    "plt.ylabel('Price')\n",
    "plt.grid(which='both', linestyle='-', linewidth=0.5)\n",
    "plt.show()\n"
   ]
  },
  {
   "cell_type": "markdown",
   "id": "8ed97e1b",
   "metadata": {},
   "source": [
    "### f. Show the relationship between individual cities vs. the average rental price."
   ]
  },
  {
   "cell_type": "code",
   "execution_count": 30,
   "id": "abdf50d1",
   "metadata": {
    "scrolled": false
   },
   "outputs": [
    {
     "name": "stdout",
     "output_type": "stream",
     "text": [
      "information between individual cities and average Rental price City\n",
      "Ballard           75.000000\n",
      "Bellevue          96.600000\n",
      "Kirkland          87.750000\n",
      "Mercer Island    130.500000\n",
      "Redmond           52.466667\n",
      "Renton            60.000000\n",
      "Seattle          116.582766\n",
      "Name: Price, dtype: float64\n"
     ]
    },
    {
     "data": {
      "image/png": "[encoded data removed]",
      "text/plain": [
       "<Figure size 640x480 with 1 Axes>"
      ]
     },
     "metadata": {},
     "output_type": "display_data"
    }
   ],
   "source": [
    "citygrp = finaldf.groupby('City')\n",
    "citygrpAvg = cityRental['Price'].mean().reset_index()\n",
    "print(\"information between individual cities and average Rental price\", cityRentalAvg)\n",
    "\n",
    "plt.bar(citygrpAvg['City'],citygrpAvg['Price'])\n",
    "plt.title(\"Relationship between Individual cities vs. the average rental price\")\n",
    "plt.xlabel('City')\n",
    "plt.ylabel('Average Price')\n",
    "plt.xticks(rotation=90)\n",
    "plt.show()\n"
   ]
  },
  {
   "cell_type": "markdown",
   "id": "5397e63d",
   "metadata": {},
   "source": [
    "### g. Show the relationship between individual cities vs. the average overall satisfaction of users."
   ]
  },
  {
   "cell_type": "code",
   "execution_count": 31,
   "id": "1d78e998",
   "metadata": {},
   "outputs": [
    {
     "name": "stdout",
     "output_type": "stream",
     "text": [
      "Information for Individual Cities and Average Overall Satisfaction:\n",
      "            City  Overall satisfaction\n",
      "0        Ballard              5.000000\n",
      "1       Bellevue              4.550000\n",
      "2       Kirkland              4.750000\n",
      "3  Mercer Island              4.750000\n",
      "4        Redmond              4.666667\n",
      "5         Renton              5.000000\n",
      "6        Seattle              4.777778\n"
     ]
    },
    {
     "data": {
      "image/png": "[encoded data removed]",
      "text/plain": [
       "<Figure size 640x480 with 1 Axes>"
      ]
     },
     "metadata": {},
     "output_type": "display_data"
    }
   ],
   "source": [
    "cityAvgOverallSat = citygrp['Overall satisfaction'].mean().reset_index()\n",
    "print(\"Information for Individual Cities and Average Overall Satisfaction:\")\n",
    "print(cityAvgOverallSat)\n",
    "\n",
    "plt.bar(cityAvgOverallSat['City'],cityAvgOverallSat['Overall satisfaction'])\n",
    "plt.title(\"Relationship between Individual cities vs. the average rental price\")\n",
    "plt.xlabel('City')\n",
    "plt.ylabel('Average Overall satisfaction')\n",
    "plt.xticks(rotation=90)\n",
    "plt.show()\n",
    "\n"
   ]
  },
  {
   "cell_type": "markdown",
   "id": "4185e081",
   "metadata": {},
   "source": [
    "### h. Using the latitudes and longitudes of rental properties, visualize the location of the rental properties."
   ]
  },
  {
   "cell_type": "code",
   "execution_count": 32,
   "id": "1f1d6966",
   "metadata": {},
   "outputs": [
    {
     "data": {
      "image/png": "[encoded data removed]",
      "text/plain": [
       "<Figure size 1000x600 with 1 Axes>"
      ]
     },
     "metadata": {},
     "output_type": "display_data"
    }
   ],
   "source": [
    "plt.figure(figsize=(10, 6))\n",
    "plt.scatter(finaldf['Longitude'], finaldf['Latitude'])\n",
    "plt.title('Location of Rental Properties')\n",
    "plt.xlabel('Longitude')\n",
    "plt.ylabel('Latitude')\n",
    "plt.show()"
   ]
  },
  {
   "cell_type": "markdown",
   "id": "4e1d2e63",
   "metadata": {},
   "source": [
    "## Task #7: Based on the data analysis above, describe observations and insights to assist both renters and landlords in navigating and renting the properties through Airbnb, such as which location and room types are best to rent."
   ]
  },
  {
   "cell_type": "markdown",
   "id": "4b1c5fba",
   "metadata": {},
   "source": [
    "# Ans:\n",
    "### -> From graph in 6a we can say that the Average price of a Rental property is getting increase based on the Count of bedrooms i.e, When Bedrooms are more the price is more for a Rental property\n",
    "\n",
    "### ->From graph 6b we can say that If the number of accomadates are more then the price is more, but there is one anomaly like when the number of accomdates are 14 the price is reduced\n",
    "\n",
    "### -> From the graph 6c, we can observe that, when the we choose Entire home/apt Room type the price is Significatly high or almost double than the Other Two room types which are private and shared room types. Out of all private Room types are Cheaper compared to other room two room types\n",
    "\n",
    "### -> From the graph 6d we can say that, there may correlation between the number of reviews and rental prices. Properties with a higher number of reviews may command higher rental prices, reflecting a potential link between positive reviews and pricing. Also from plot we can say it has one data cluster and there are few outliers\n",
    "\n",
    "### -> From the graph 6e, the visulization shows Properties with higher overall satisfaction ratings may command higher rental prices, indicating the value placed on customer satisfaction. This insight can help renters in selecting properties with high satisfaction ratings and landlords in understanding the correlation between satisfaction and pricing.\n",
    "\n",
    "### -> From Graph 6f, we can observe that Mercer Island is the city which is coslty on average compared to other cities followed by seattle. This insight can assist both renters and landlords in understanding the pricing trends in different cities, enabling informed decisions on property selection and pricing strategies.\n",
    "\n",
    "### -> From Graph 6g, the average overall satisfaction of users across different cities, providing insights into customer satisfaction levels in various locations.Ballard and Renton have a overall satisfaction Nearly 5 and all of the cities have the overall satisfaction above 4.\n",
    "\n",
    "### -> From Graph 6h,  visualization maps the geographical distribution of rental properties, offering insights into the concentration and dispersion of properties in different areas. The Graph has nearly 3 clusters\n"
   ]
  },
  {
   "cell_type": "markdown",
   "id": "48110fe2",
   "metadata": {},
   "source": [
    "# Extra credit "
   ]
  },
  {
   "cell_type": "markdown",
   "id": "26d6a27d",
   "metadata": {},
   "source": [
    "### a) Segment the latitudes and longitudes of rental properties into 10 equal intervals of the smallest and highest of the latitudes and longitudes, respectively. Assign a code to each rental property based on its associated latitudes and longitudes code, ranging from 1 to 10. For example, a property at the smallest 10% of latitude and longitude will be assigned the code (1, 1), while a property at the smallest latitude and longest longitude will receive the code (1, 10). Print the top 10 regions out of 100 regions that have the highest number of rental properties in the form of (latitude code, longitude code, and number of rental properties).\n"
   ]
  },
  {
   "cell_type": "code",
   "execution_count": 33,
   "id": "14ecf959",
   "metadata": {},
   "outputs": [
    {
     "name": "stdout",
     "output_type": "stream",
     "text": [
      "Top 10 regions with the highest number of rental properties:\n",
      "(5, 3)    46\n",
      "(5, 4)    32\n",
      "(8, 2)    28\n",
      "(7, 3)    27\n",
      "(6, 4)    24\n",
      "(6, 3)    24\n",
      "(7, 2)    20\n",
      "(3, 5)    18\n",
      "(9, 3)    18\n",
      "(9, 2)    16\n",
      "Name: Region, dtype: int64\n",
      "   ID  Room ID  Host ID        Room Type Address (City, State, Country)  \\\n",
      "0   0     2318     2536  Entire home/apt     Seattle, WA, United States   \n",
      "2   2     4291    35749     Private room     Seattle, WA, United States   \n",
      "3   3     5682     8993  Entire home/apt     Seattle, WA, United States   \n",
      "4   4     6606    14942  Entire home/apt     Seattle, WA, United States   \n",
      "5   5     9419    30559     Private room     Seattle, WA, United States   \n",
      "\n",
      "   Reviews  Overall satisfaction  Accommodates  Bedrooms  Bathrooms  Price  \\\n",
      "0       21                   4.5             8       4.0        2.5    250   \n",
      "2       63                   4.5             2       1.0        1.0     82   \n",
      "3      462                   5.0             2       1.0        1.0     49   \n",
      "4      134                   4.5             2       1.0        1.0     90   \n",
      "5      130                   4.5             2       1.0        3.0     65   \n",
      "\n",
      "  Last modified   Latitude   Longitude  \\\n",
      "0       46:14.7  47.610819 -122.290816   \n",
      "2       04:19.9  47.687801 -122.313427   \n",
      "3       11:25.5  47.523980 -122.359891   \n",
      "4       12:38.4  47.654109 -122.337605   \n",
      "5       08:20.1  47.550167 -122.319366   \n",
      "\n",
      "                                            Location  \\\n",
      "0  0101000020E6100000D449B6BA9C925EC0416326512FCE...   \n",
      "2  0101000020E6100000BDAB1E300F945EC0FB93F8DC09D8...   \n",
      "3  0101000020E6100000FCC7427408975EC009E1D1C611C3...   \n",
      "4  0101000020E6100000D47D00529B955EC07782FDD7B9D3...   \n",
      "5  0101000020E6100000145D177E70945EC0522B4CDF6BC6...   \n",
      "\n",
      "                                                Name     City  Region  \n",
      "0  Casa Madrona - Urban Oasis, 1 block from the P...  Seattle  (5, 5)  \n",
      "2                    Sunrise in Seattle Master Suite  Seattle  (9, 4)  \n",
      "3                Cozy Studio, min. to downtown -WiFi  Seattle  (1, 2)  \n",
      "4                Fab, private seattle urban cottage!  Seattle  (7, 3)  \n",
      "5                Glorious sun room w/ memory foambed  Seattle  (2, 4)  \n"
     ]
    },
    {
     "name": "stderr",
     "output_type": "stream",
     "text": [
      "C:\\Users\\rahul\\AppData\\Local\\Temp\\ipykernel_21132\\1560968613.py:6: SettingWithCopyWarning: \n",
      "A value is trying to be set on a copy of a slice from a DataFrame.\n",
      "Try using .loc[row_indexer,col_indexer] = value instead\n",
      "\n",
      "See the caveats in the documentation: https://pandas.pydata.org/pandas-docs/stable/user_guide/indexing.html#returning-a-view-versus-a-copy\n",
      "  finaldf['Region'] = list(zip(latitude_intervals, longitude_intervals))\n"
     ]
    }
   ],
   "source": [
    "# Calculate the intervals for latitude and longitude\n",
    "latitude_intervals = pd.cut(finaldf['Latitude'], bins=10, labels=False) + 1\n",
    "longitude_intervals = pd.cut(finaldf['Longitude'], bins=10, labels=False) + 1\n",
    "\n",
    "# Assign codes to each rental property\n",
    "finaldf['Region'] = list(zip(latitude_intervals, longitude_intervals))\n",
    "\n",
    "# Count the number of rental properties in each region\n",
    "region_counts = finaldf['Region'].value_counts()\n",
    "\n",
    "# Print the top 10 regions with the highest number of rental properties\n",
    "print(\"Top 10 regions with the highest number of rental properties:\")\n",
    "print(region_counts.head(10))\n",
    "\n",
    "print(finaldf.head())"
   ]
  },
  {
   "cell_type": "markdown",
   "id": "621c684a",
   "metadata": {},
   "source": [
    "### b) Using Figure 6.h, verify whether your analysis for the above question is correct."
   ]
  },
  {
   "cell_type": "code",
   "execution_count": 34,
   "id": "84288fc9",
   "metadata": {},
   "outputs": [
    {
     "name": "stdout",
     "output_type": "stream",
     "text": [
      "Yes, from the above grap 6h and analysis for the above question is correct\n"
     ]
    }
   ],
   "source": [
    "print(\"Yes, from the above grap 6h and analysis for the above question is correct\")"
   ]
  },
  {
   "cell_type": "markdown",
   "id": "bcd376f6",
   "metadata": {},
   "source": [
    "### c) Find the top 10 regions out of 100 regions (location codes assigned from item a) that received the highest average reviews."
   ]
  },
  {
   "cell_type": "code",
   "execution_count": 35,
   "id": "8d530e93",
   "metadata": {},
   "outputs": [
    {
     "name": "stdout",
     "output_type": "stream",
     "text": [
      "Top 10 regions with the highest average reviews:\n",
      "Region\n",
      "(1, 1)    218.666667\n",
      "(1, 2)    217.250000\n",
      "(2, 1)    209.000000\n",
      "(6, 2)    206.153846\n",
      "(8, 1)    199.692308\n",
      "(3, 5)    184.666667\n",
      "(6, 3)    157.458333\n",
      "(7, 3)    144.074074\n",
      "(8, 2)    143.214286\n",
      "(6, 8)    138.000000\n",
      "Name: Reviews, dtype: float64\n"
     ]
    }
   ],
   "source": [
    "mean_reviews_per_region = finaldf.groupby('Region')['Reviews'].mean()\n",
    "\n",
    "# Get the top 10 regions with the highest average reviews\n",
    "top_10_regions_reviews = mean_reviews_per_region.nlargest(10)\n",
    "\n",
    "print(\"Top 10 regions with the highest average reviews:\")\n",
    "print(top_10_regions_reviews)"
   ]
  }
 ],
 "metadata": {
  "kernelspec": {
   "display_name": "Python 3 (ipykernel)",
   "language": "python",
   "name": "python3"
  },
  "language_info": {
   "codemirror_mode": {
    "name": "ipython",
    "version": 3
   },
   "file_extension": ".py",
   "mimetype": "text/x-python",
   "name": "python",
   "nbconvert_exporter": "python",
   "pygments_lexer": "ipython3",
   "version": "3.11.5"
  }
 },
 "nbformat": 4,
 "nbformat_minor": 5
}
